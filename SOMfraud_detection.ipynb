{
  "nbformat": 4,
  "nbformat_minor": 0,
  "metadata": {
    "colab": {
      "name": "SOMfraud-detection.ipynb",
      "provenance": []
    },
    "kernelspec": {
      "name": "python3",
      "display_name": "Python 3"
    },
    "language_info": {
      "name": "python"
    }
  },
  "cells": [
    {
      "cell_type": "code",
      "metadata": {
        "colab": {
          "base_uri": "https://localhost:8080/"
        },
        "id": "Dru2lvmwU_1D",
        "outputId": "907637a3-2d63-4b75-cc62-1df71125642d"
      },
      "source": [
        "!pip install pyforest\n"
      ],
      "execution_count": 1,
      "outputs": [
        {
          "output_type": "stream",
          "name": "stdout",
          "text": [
            "Requirement already satisfied: pyforest in /usr/local/lib/python3.7/dist-packages (1.1.0)\n"
          ]
        }
      ]
    },
    {
      "cell_type": "code",
      "metadata": {
        "colab": {
          "base_uri": "https://localhost:8080/"
        },
        "id": "W-Aq6417VNlD",
        "outputId": "2984cf4e-2217-4ba4-b2bd-a256b83e8df6"
      },
      "source": [
        "from pyforest import *\n",
        "lazy_imports()"
      ],
      "execution_count": 1,
      "outputs": [
        {
          "output_type": "execute_result",
          "data": {
            "text/plain": [
              "['from sklearn.linear_model import RidgeCV',\n",
              " 'import os',\n",
              " 'import glob',\n",
              " 'import fastai',\n",
              " 'import sklearn',\n",
              " 'from sklearn.preprocessing import PolynomialFeatures',\n",
              " 'import textblob',\n",
              " 'import spacy',\n",
              " 'import bokeh',\n",
              " 'from sklearn.cluster import KMeans',\n",
              " 'from sklearn.impute import SimpleImputer',\n",
              " 'from sklearn.feature_extraction.text import TfidfVectorizer',\n",
              " 'import statsmodels.api as sm',\n",
              " 'from statsmodels.tsa.arima_model import ARIMA',\n",
              " 'from sklearn.linear_model import Lasso',\n",
              " 'from sklearn.linear_model import LassoCV',\n",
              " 'from PIL import Image',\n",
              " 'import tensorflow as tf',\n",
              " 'from sklearn.ensemble import GradientBoostingClassifier',\n",
              " 'from pathlib import Path',\n",
              " 'import matplotlib.pyplot as plt',\n",
              " 'from sklearn.ensemble import RandomForestRegressor',\n",
              " 'from sklearn.model_selection import cross_val_score',\n",
              " 'import imutils',\n",
              " 'from sklearn.linear_model import LogisticRegression',\n",
              " 'from scipy import stats',\n",
              " 'from sklearn.manifold import TSNE',\n",
              " 'import seaborn as sns',\n",
              " 'from sklearn.preprocessing import MinMaxScaler',\n",
              " 'from sklearn.preprocessing import OneHotEncoder',\n",
              " 'from sklearn.preprocessing import LabelEncoder',\n",
              " 'from sklearn.ensemble import RandomForestClassifier',\n",
              " 'import nltk',\n",
              " 'import cv2',\n",
              " 'from sklearn.ensemble import GradientBoostingRegressor',\n",
              " 'import datetime as dt',\n",
              " 'from dask import dataframe as dd',\n",
              " 'from pyspark import SparkContext',\n",
              " 'import sys',\n",
              " 'import awswrangler as wr',\n",
              " 'import statistics',\n",
              " 'from sklearn.preprocessing import StandardScaler',\n",
              " 'import torch',\n",
              " 'from sklearn import metrics',\n",
              " 'import xgboost as xgb',\n",
              " 'from sklearn.model_selection import StratifiedKFold',\n",
              " 'import re',\n",
              " 'import tqdm',\n",
              " 'from sklearn.decomposition import PCA',\n",
              " 'import lightgbm as lgb',\n",
              " 'from sklearn.linear_model import LinearRegression',\n",
              " 'from xlrd import open_workbook',\n",
              " 'import fbprophet',\n",
              " 'import numpy as np',\n",
              " 'from sklearn.linear_model import ElasticNetCV',\n",
              " 'import matplotlib as mpl',\n",
              " 'import gensim',\n",
              " 'from sklearn.model_selection import GridSearchCV',\n",
              " 'from sklearn.model_selection import KFold',\n",
              " 'from openpyxl import load_workbook',\n",
              " 'from sklearn.linear_model import Ridge',\n",
              " 'import dash',\n",
              " 'from sklearn.feature_extraction.text import CountVectorizer',\n",
              " 'import plotly as py',\n",
              " 'from sklearn.model_selection import train_test_split',\n",
              " 'import pickle',\n",
              " 'from sklearn.preprocessing import RobustScaler',\n",
              " 'from fbprophet import Prophet',\n",
              " 'import skimage',\n",
              " 'import keras',\n",
              " 'import altair as alt',\n",
              " 'from sklearn.model_selection import RandomizedSearchCV',\n",
              " 'import plotly.graph_objs as go',\n",
              " 'import pydot',\n",
              " 'from sklearn.linear_model import ElasticNet',\n",
              " 'import pandas as pd',\n",
              " 'from sklearn import svm',\n",
              " 'import plotly.express as px',\n",
              " 'from scipy import signal as sg']"
            ]
          },
          "metadata": {},
          "execution_count": 1
        }
      ]
    },
    {
      "cell_type": "code",
      "metadata": {
        "colab": {
          "base_uri": "https://localhost:8080/",
          "height": 17
        },
        "id": "2RKRQx9gVar8",
        "outputId": "1332843f-a125-4bc7-c34b-25d92af04ab8"
      },
      "source": [
        "dataset = pd.read_csv('dataset.csv')"
      ],
      "execution_count": 2,
      "outputs": [
        {
          "output_type": "display_data",
          "data": {
            "application/javascript": [
              "\n",
              "        if (window._pyforest_update_imports_cell) { window._pyforest_update_imports_cell('import pandas as pd'); }\n",
              "    "
            ],
            "text/plain": [
              "<IPython.core.display.Javascript object>"
            ]
          },
          "metadata": {}
        }
      ]
    },
    {
      "cell_type": "code",
      "metadata": {
        "id": "7J5PChAiWa_r"
      },
      "source": [
        "X = dataset.iloc[:, :-1].values\n",
        "y = dataset.iloc[:, -1].values"
      ],
      "execution_count": 3,
      "outputs": []
    },
    {
      "cell_type": "markdown",
      "metadata": {
        "id": "2HfafZ18YSPr"
      },
      "source": [
        "Feature Scaling"
      ]
    },
    {
      "cell_type": "code",
      "metadata": {
        "colab": {
          "base_uri": "https://localhost:8080/",
          "height": 17
        },
        "id": "a7aN3tKbYIRD",
        "outputId": "a52cfc0a-1a21-4de9-9446-d00b3afc44a6"
      },
      "source": [
        "scaling = MinMaxScaler(feature_range=(0,1))"
      ],
      "execution_count": 4,
      "outputs": [
        {
          "output_type": "display_data",
          "data": {
            "application/javascript": [
              "\n",
              "        if (window._pyforest_update_imports_cell) { window._pyforest_update_imports_cell('import pandas as pd\\nfrom sklearn.preprocessing import MinMaxScaler'); }\n",
              "    "
            ],
            "text/plain": [
              "<IPython.core.display.Javascript object>"
            ]
          },
          "metadata": {}
        }
      ]
    },
    {
      "cell_type": "code",
      "metadata": {
        "id": "m7FtMATDYgrD"
      },
      "source": [
        "X = scaling.fit_transform(X)"
      ],
      "execution_count": 5,
      "outputs": []
    },
    {
      "cell_type": "markdown",
      "metadata": {
        "id": "wnUAt0w6Y8lb"
      },
      "source": [
        "Building and Training SOM"
      ]
    },
    {
      "cell_type": "code",
      "metadata": {
        "id": "efX3vAqTY2uz"
      },
      "source": [
        "from minisom import MiniSom"
      ],
      "execution_count": 6,
      "outputs": []
    },
    {
      "cell_type": "code",
      "metadata": {
        "id": "P-ELvlj5aUv0"
      },
      "source": [
        "som = MiniSom( x=10,y=10, input_len=15,sigma=1,learning_rate=0.5)"
      ],
      "execution_count": 7,
      "outputs": []
    },
    {
      "cell_type": "code",
      "metadata": {
        "id": "A3QcZH0BbNXE"
      },
      "source": [
        "#initialize random weigth before training\n",
        "som.random_weights_init(X)\n",
        "som.train_random(data=X,num_iteration=100)"
      ],
      "execution_count": 8,
      "outputs": []
    },
    {
      "cell_type": "markdown",
      "metadata": {
        "id": "3NSO8cQncAxB"
      },
      "source": [
        "Visualizing"
      ]
    },
    {
      "cell_type": "code",
      "metadata": {
        "id": "0NBUzhjYb7Gy"
      },
      "source": [
        "from pylab import bone, pcolor, colorbar, plot, show"
      ],
      "execution_count": 9,
      "outputs": []
    },
    {
      "cell_type": "code",
      "metadata": {
        "colab": {
          "base_uri": "https://localhost:8080/",
          "height": 34
        },
        "id": "FkGxvbiXcqWz",
        "outputId": "6a532776-2ae6-4da3-fded-901d52a59cc5"
      },
      "source": [
        "bone()\n"
      ],
      "execution_count": 10,
      "outputs": [
        {
          "output_type": "display_data",
          "data": {
            "text/plain": [
              "<Figure size 432x288 with 0 Axes>"
            ]
          },
          "metadata": {}
        }
      ]
    },
    {
      "cell_type": "code",
      "metadata": {
        "colab": {
          "base_uri": "https://localhost:8080/",
          "height": 286
        },
        "id": "_zYzNlkFloK3",
        "outputId": "208fc96d-8f55-412b-bea6-724a6546d48d"
      },
      "source": [
        "#som mapping\n",
        "pcolor(som.distance_map().T)"
      ],
      "execution_count": 11,
      "outputs": [
        {
          "output_type": "execute_result",
          "data": {
            "text/plain": [
              "<matplotlib.collections.PolyCollection at 0x7fe631332650>"
            ]
          },
          "metadata": {},
          "execution_count": 11
        },
        {
          "output_type": "display_data",
          "data": {
            "image/png": "[encoded data removed]",
            "text/plain": [
              "<Figure size 432x288 with 1 Axes>"
            ]
          },
          "metadata": {
            "needs_background": "light"
          }
        }
      ]
    },
    {
      "cell_type": "code",
      "metadata": {
        "colab": {
          "base_uri": "https://localhost:8080/",
          "height": 269
        },
        "id": "8SLPW0oFcrqi",
        "outputId": "d530980c-82f8-427f-d16e-f4254e783ae1"
      },
      "source": [
        "pcolor(som.distance_map().T)\n",
        "colorbar()\n",
        "markers= ['o','s']\n",
        "colors = ['r', 'g']\n",
        "for i,j in enumerate(X):\n",
        "  w=som.winner(j)\n",
        "  plot(w[0]+0.5,w[1]+0.5,markers[y[i]],\n",
        "       markeredgecolor=colors[y[i]],markerfacecolor='None',\n",
        "       markersize=10,markeredgewidth=2)\n",
        "  \n",
        "\n",
        "show()"
      ],
      "execution_count": 12,
      "outputs": [
        {
          "output_type": "display_data",
          "data": {
            "image/png": "[encoded data removed]",
            "text/plain": [
              "<Figure size 432x288 with 2 Axes>"
            ]
          },
          "metadata": {
            "needs_background": "light"
          }
        }
      ]
    },
    {
      "cell_type": "code",
      "metadata": {
        "id": "kW4epw-GlNfI"
      },
      "source": [
        "mappings = som.win_map(X)\n",
        "frauds =  np.concatenate((mappings[(3,6)], mappings[(8,7)],mappings[(6,4)]), axis = 0)\n",
        "frauds = scaling.inverse_transform(frauds)"
      ],
      "execution_count": null,
      "outputs": []
    },
    {
      "cell_type": "code",
      "metadata": {
        "colab": {
          "base_uri": "https://localhost:8080/"
        },
        "id": "dXJ3Eo83lUK4",
        "outputId": "5914c7e7-f823-4fb0-c26f-8458a0391939"
      },
      "source": [
        "print('Fraud Customer IDs')\n",
        "for i in frauds[:, 0]:\n",
        "  print(int(i))"
      ],
      "execution_count": 14,
      "outputs": [
        {
          "output_type": "stream",
          "name": "stdout",
          "text": [
            "Fraud Customer IDs\n",
            "15783859\n",
            "15763194\n",
            "15740411\n",
            "15790689\n",
            "15621546\n",
            "15585855\n",
            "15661412\n",
            "15571284\n",
            "15591360\n",
            "15570947\n",
            "15649183\n",
            "15641715\n",
            "15589881\n",
            "15592326\n",
            "15622507\n",
            "15598266\n",
            "15602456\n",
            "15642098\n",
            "15580579\n",
            "15568819\n",
            "15731586\n",
            "15705918\n",
            "15783883\n",
            "15756538\n",
            "15675926\n",
            "15769548\n",
            "15673907\n",
            "15752578\n",
            "15666096\n",
            "15805261\n"
          ]
        }
      ]
    },
    {
      "cell_type": "code",
      "metadata": {
        "id": "uG81QPvjlZ14"
      },
      "source": [
        ""
      ],
      "execution_count": null,
      "outputs": []
    }
  ]
}